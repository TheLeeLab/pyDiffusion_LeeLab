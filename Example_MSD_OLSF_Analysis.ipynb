{
 "cells": [
  {
   "cell_type": "code",
   "execution_count": 1,
   "id": "bd08423e",
   "metadata": {},
   "outputs": [],
   "source": [
    "from src import LangevinFunctions\n",
    "from src import StatsFunctions\n",
    "from src import MSDFunctions\n",
    "from src import PlottingFunctions\n",
    "SF_F = StatsFunctions.Statistics_Functions()\n",
    "LF_F = LangevinFunctions.LF()\n",
    "MSD = MSDFunctions.MSD()\n",
    "plots = PlottingFunctions.Plotter()\n",
    "import numpy as np\n",
    "import matplotlib.pyplot as plt"
   ]
  },
  {
   "cell_type": "markdown",
   "id": "6f4374cd-a422-4e20-8f9c-4de2798bd629",
   "metadata": {},
   "source": [
    "First, we will generate some single particle tracking data. We can use the LangevinFunctions module to do this."
   ]
  },
  {
   "cell_type": "code",
   "execution_count": 2,
   "id": "b3dffcad-6b91-4bf6-a4f5-9f5f825fa7e6",
   "metadata": {},
   "outputs": [],
   "source": [
    "\"\"\"     BrownianTrans_Realistic generates displacements (Delta)\n",
    "        from equations 2--5 of Michalet, X.; Berglund, A. J.\n",
    "        Phys. Rev. E 2012, 85 (6), 061916.\n",
    "        https://doi.org/10.1103/PhysRevE.85.061916.\n",
    "        This function assumes a realistic brownian motion tracked\n",
    "        using a camera.\n",
    "\n",
    "        Args:\n",
    "            DT (float): translational diffusion coefficient\n",
    "            N (int): number of steps to simulate\n",
    "            n_d (int): mumber of dimensions of diffusion\n",
    "            deltaT (flaot): time step between data points\n",
    "            tE (float): camera exposure duration (can be same as deltaT)\n",
    "            sigma0 (float): static localisation error\n",
    "            s0 (float): standard deviation of the PSF\n",
    "            R (float): motion blur coefficient (see Equation 5 of paper)\n",
    "\n",
    "        Returns:\n",
    "            coordinates (np.ndarray): coordinates over time\n",
    "\"\"\"\n",
    "\n",
    "N = 100; # number of data points in our track\n",
    "DT = 1. # diffusion coefficient\n",
    "dT = 100e-3 # timestep\n",
    "sigma0 = 0.05 # 50 nm localisation precision\n",
    "s0 = 0.25 # 250 nm psf\n",
    "n_d = 3 # 3-dimensional diffusion\n",
    "\n",
    "coordinates = LF_F.BrownianTrans_Realistic(DT=DT, N=N, deltaT=dT, n_d=n_d, tE=dT, sigma0=sigma0, s0=s0, R=1./6)"
   ]
  },
  {
   "cell_type": "markdown",
   "id": "c1896d48-4e54-4c3a-b288-d905364ea2bd",
   "metadata": {},
   "source": [
    "Then, we analyse it using our mean squared displacement function, using the OLSF of Michalet."
   ]
  },
  {
   "cell_type": "code",
   "execution_count": 3,
   "id": "5fd7f264-3a46-4a0e-afec-1d2f009c95b8",
   "metadata": {},
   "outputs": [
    {
     "name": "stdout",
     "output_type": "stream",
     "text": [
      "Diffusion coefficient estimate is  0.8924444683324612\n",
      "Estimate of dynamic localisation variance is  -0.011299150196106167\n"
     ]
    }
   ],
   "source": [
    "\"\"\"\n",
    "        Compute diffusion coefficient estimate, and estimate of the\n",
    "        dynamic localisation error, using the MLE approach.\n",
    "    \n",
    "        Args:\n",
    "            coordinates (numpy.ndarray): Input trajectory.\n",
    "            dT (float): Time interval.\n",
    "            R (float): Motion blur coefficient.\n",
    "            n_d (int): number of dimensions. If above 1, coordinates second\n",
    "                        dimension should be same shape as this number\n",
    "            maxiter (int): Maximum number of iterations. Defaults to 100.\n",
    "    \n",
    "        Returns:\n",
    "            D (float): estimate of D value.\n",
    "            sigma (float): estimate of dynamic localisation std.\n",
    "\"\"\"\n",
    "\n",
    "D, sigma = MSD.DSigma2_OLSF(coordinates, dT, R=1./6, n_d=n_d)\n",
    "print(\"Diffusion coefficient estimate is \", D)\n",
    "print(\"Estimate of dynamic localisation variance is \", sigma)"
   ]
  },
  {
   "cell_type": "markdown",
   "id": "0e10ab24-f180-4f27-95f9-d0002fc296d0",
   "metadata": {},
   "source": [
    "This may be out! We can quickly simulate 1,000 different actualisations of our coordinate to confirm that on average our OLSF does well. Though NB, the MLE is more robust (see the papers)."
   ]
  },
  {
   "cell_type": "code",
   "execution_count": 4,
   "id": "313bf883-332c-4e6f-b3f5-3f7d769143e7",
   "metadata": {},
   "outputs": [],
   "source": [
    "D_estimates = np.zeros(1000)\n",
    "sigma_estimates = np.zeros(1000)\n",
    "\n",
    "for i in np.arange(1000):\n",
    "    coordinates = LF_F.BrownianTrans_Realistic(DT=DT, N=N, deltaT=dT, n_d=n_d, tE=dT, sigma0=sigma0, s0=s0, R=1./6)\n",
    "    D_estimates[i], sigma_estimates[i] = MSD.DSigma2_OLSF(coordinates, dT, R=1./6, n_d=n_d)"
   ]
  },
  {
   "cell_type": "markdown",
   "id": "6e25d74e-e2e2-4742-8030-c16fe912804d",
   "metadata": {},
   "source": [
    "Then let's plot these in a histogram to lay our fears to rest that our estimator is \"off\"."
   ]
  },
  {
   "cell_type": "code",
   "execution_count": 5,
   "id": "cb1283d3-8785-40ca-bf70-6b97579f3b9f",
   "metadata": {},
   "outputs": [
    {
     "data": {
      "image/png": "[encoded data removed]",
      "text/plain": [
       "<Figure size 333x350 with 1 Axes>"
      ]
     },
     "metadata": {},
     "output_type": "display_data"
    }
   ],
   "source": [
    "fig, ax = plots.one_column_plot()\n",
    "\n",
    "D_estimates = D_estimates[~np.isnan(D_estimates)]\n",
    "ax = plots.histogram_plot(axs=ax, data=D_estimates, bins=SF_F.bincalculator(D_estimates), xaxislabel='Diffusion coefficient estimate');\n",
    "\n",
    "plt.show()"
   ]
  },
  {
   "cell_type": "markdown",
   "id": "680e9b5c-a7e1-4ef9-b076-88b84f069d1d",
   "metadata": {},
   "source": [
    "We can also compute (crudely) errors on our D and $\\sigma$ parameters using bootstrapping. This is done by using the DSigma_MLE_BootStrap function."
   ]
  },
  {
   "cell_type": "code",
   "execution_count": 6,
   "id": "03ba24b1-8f01-4810-816a-acc17b6bb44d",
   "metadata": {},
   "outputs": [
    {
     "name": "stdout",
     "output_type": "stream",
     "text": [
      "Diffusion coefficient estimate error is  0.11052736492557182\n",
      "Estimate of dynamic localisation std is  0.00842033468478491\n"
     ]
    }
   ],
   "source": [
    "\"\"\"\n",
    "        Compute diffusion coefficient estimate, and estimate of the\n",
    "        dynamic localisation error, using the MLE approach.\n",
    "    \n",
    "        Args:\n",
    "            coordinates (np.ndarray): coordinates over time.\n",
    "            dT (float): Time step.\n",
    "            R (float): Motion blur coefficient.\n",
    "            n_d (int): number of dimensions. If above 1, coordinates second\n",
    "                        dimension should be same shape as this number\n",
    "            maxiter (int): maximum number of optimisation iterations to make\n",
    "            maxfun (int): maximum number of function evaluations to make\n",
    "            n_samples (int): number of boostrapped samples. default 100.\n",
    "    \n",
    "        Returns:\n",
    "            D_err (float): estimate of D value error\n",
    "            sigma_err (float): estimate of dynamic localisation std error\n",
    "\"\"\"\n",
    "\n",
    "D_error, sigma_error = MSD.DSigma2_OLSF_BootStrap(coordinates, dT, R=1./6, n_d=n_d)\n",
    "print(\"Diffusion coefficient estimate error is \", D_error)\n",
    "print(\"Estimate of dynamic localisation std is \", sigma_error)"
   ]
  },
  {
   "cell_type": "markdown",
   "id": "05a8b384-4a9b-4acc-9b3f-760ba2557d7f",
   "metadata": {},
   "source": [
    "We can also read in data using pandas and analyse that, deducing the time step from our file, and then analyse the data."
   ]
  },
  {
   "cell_type": "code",
   "execution_count": 7,
   "id": "1c863525-61d2-4468-9c82-022306fad75f",
   "metadata": {},
   "outputs": [
    {
     "name": "stdout",
     "output_type": "stream",
     "text": [
      "Diffusion coefficient estimate is  1.0094163837259534e-12\n",
      "Estimate of dynamic localisation std is  -1.5430915321540825e-14\n",
      "Diffusion coefficient estimate error is  3.2243919697844473e-14\n",
      "Estimate of dynamic localisation std is  2.422879893791278e-15\n"
     ]
    }
   ],
   "source": [
    "import pandas as pd\n",
    "\n",
    "data = pd.read_csv(r'Example_Tracking_Data/Example_Tracking_Data.csv', index_col=0)\n",
    "dT = np.mean(np.diff(data.index))\n",
    "\n",
    "D, sigma = MSD.DSigma2_OLSF(data.values, dT, R=1./6, n_d=data.shape[1])\n",
    "print(\"Diffusion coefficient estimate is \", D)\n",
    "print(\"Estimate of dynamic localisation std is \", sigma)\n",
    "\n",
    "D_error, sigma_error = MSD.DSigma2_OLSF_BootStrap(data.values, dT, R=1./6, n_d=n_d)\n",
    "print(\"Diffusion coefficient estimate error is \", D_error)\n",
    "print(\"Estimate of dynamic localisation std is \", sigma_error)"
   ]
  }
 ],
 "metadata": {
  "kernelspec": {
   "display_name": "Python 3 (ipykernel)",
   "language": "python",
   "name": "python3"
  },
  "language_info": {
   "codemirror_mode": {
    "name": "ipython",
    "version": 3
   },
   "file_extension": ".py",
   "mimetype": "text/x-python",
   "name": "python",
   "nbconvert_exporter": "python",
   "pygments_lexer": "ipython3",
   "version": "3.10.12"
  }
 },
 "nbformat": 4,
 "nbformat_minor": 5
}
