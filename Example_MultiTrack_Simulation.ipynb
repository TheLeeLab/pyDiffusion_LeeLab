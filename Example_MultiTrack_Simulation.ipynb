{
 "cells": [
  {
   "cell_type": "code",
   "execution_count": 1,
   "id": "bd08423e",
   "metadata": {},
   "outputs": [],
   "source": [
    "from src import LangevinFunctions\n",
    "from src import StatsFunctions\n",
    "from src import CVE_Functions\n",
    "from src import Diffusion_MLE\n",
    "from src import MSDFunctions\n",
    "from src import PlottingFunctions\n",
    "SF_F = StatsFunctions.Statistics_Functions()\n",
    "LF_F = LangevinFunctions.LF()\n",
    "CVE = CVE_Functions.CVE()\n",
    "MLE = Diffusion_MLE.D_MLE()\n",
    "MSD = MSDFunctions.MSD()\n",
    "plots = PlottingFunctions.Plotter()\n",
    "import numpy as np\n",
    "import matplotlib.pyplot as plt"
   ]
  },
  {
   "cell_type": "markdown",
   "id": "6f4374cd-a422-4e20-8f9c-4de2798bd629",
   "metadata": {},
   "source": [
    "First, we will generate some single particle tracking data. We can use the LangevinFunctions module to do this.\n",
    "We will generate 10 tracks in an 8 by 8 by 8 $\\mu$m$^3$ box, and return a dictionary object containing all the tracks."
   ]
  },
  {
   "cell_type": "code",
   "execution_count": 2,
   "id": "b3dffcad-6b91-4bf6-a4f5-9f5f825fa7e6",
   "metadata": {},
   "outputs": [],
   "source": [
    "\"\"\" MultiBrownianTrans_Volume function\n",
    "    Generates displacements Delta from equations 2--5\n",
    "    of Michalet, X.; Berglund, A. J.\n",
    "    Phys. Rev. E 2012, 85 (6), 061916.\n",
    "    https://doi.org/10.1103/PhysRevE.85.061916.\n",
    "    More realistic Brownian motion assuming tracked with a camera\n",
    "    Simulates a specific volume \n",
    "    Will split tracks that reach sigma0 from each other\n",
    "\n",
    "        Args:\n",
    "            DT (float): translational diffusion coefficient\n",
    "            N (int): number of steps to simulate\n",
    "            n_d (int): mumber of dimensions of diffusion\n",
    "            deltaT (flaot): time step between data points\n",
    "            tE (float): camera exposure duration (can be same as deltaT)\n",
    "            sigma0 (float): static localisation error\n",
    "            s0 (float): standard deviation of the PSF\n",
    "            n_molecules (int): number of molecules simualted in the volume\n",
    "            volume (np.1darray): dimensions of volume simulated, in same units as DT\n",
    "                                (same number of dimensions as n_d)\n",
    "            bleach_probability (float): if above 0, assigns a random \n",
    "                                        proportion of frames to \"off\" and \n",
    "                                        replaces them with interpolation.\n",
    "            R (float): motion blur coefficient (see Equation 5 of paper)\n",
    "\n",
    "        Returns:\n",
    "            coordinates (dict): coordinates of n_molecules over time\n",
    "        \"\"\"\n",
    "\n",
    "N = 100; # number of data points in our track\n",
    "DT = 1 # diffusion coefficient\n",
    "dT = 100e-3 # timestep\n",
    "sigma0 = 0.05 # 50 nm localisation precision\n",
    "s0 = 0.25 # 250 nm psf\n",
    "n_d = 3 # 3-dimensional diffusion\n",
    "n_molecules = 100 # 100 molecules\n",
    "volume = np.array([8, 8, 8])\n",
    "bleach_probability = 0.0 # ignore bleaching for now\n",
    "\n",
    "coordinates_dict = LF_F.MultiBrownianTrans_Volume(DT, N, n_d, dT, dT, sigma0, s0, \n",
    "                                  n_molecules=n_molecules, volume=volume, \n",
    "                                  bleach_probability=bleach_probability, \n",
    "                                  R=1./6, min_track_length=10)"
   ]
  },
  {
   "cell_type": "markdown",
   "id": "862bec1f-251c-4b05-8d15-9b74c2397bd9",
   "metadata": {},
   "source": [
    "Then, we can analyse all of these tracks using whatever estimator we so choose. Here, we try all our different analyses."
   ]
  },
  {
   "cell_type": "code",
   "execution_count": null,
   "id": "5fd7f264-3a46-4a0e-afec-1d2f009c95b8",
   "metadata": {},
   "outputs": [],
   "source": [
    "\"\"\"\n",
    "        Compute diffusion coefficient estimate, and estimate of the\n",
    "        dynamic localisation error, using the MLE approach.\n",
    "    \n",
    "        Args:\n",
    "            coordinates (np.ndarray): coordinates over time.\n",
    "            dT (float): Time step.\n",
    "            R (float): Motion blur coefficient.\n",
    "            n_d (int): number of dimensions. If above 1, coordinates second\n",
    "                        dimension should be same shape as this number\n",
    "            maxiter (int): maximum number of optimisation iterations to make\n",
    "            maxfun (int): maximum number of function evaluations to make\n",
    "    \n",
    "        Returns:\n",
    "            D (float): estimate of D value.\n",
    "            sigma (float): estimate of dynamic localisation std.\n",
    "\"\"\"\n",
    "D_estimates_MLE = np.zeros(len(coordinates_dict.keys()))\n",
    "D_estimates_MSD = np.zeros(len(coordinates_dict.keys()))\n",
    "D_estimates_CVE = np.zeros(len(coordinates_dict.keys()))\n",
    "\n",
    "for i, key in enumerate(coordinates_dict.keys()):\n",
    "    D_estimates_MLE[i], _ = MLE.DSigma_MLE(coordinates_dict[key], dT, R=1./6, n_d=n_d)\n",
    "    D_estimates_MSD[i], _ = MSD.DSigma2_OLSF(coordinates_dict[key], dT, R=1./6, n_d=n_d)\n",
    "    D_estimates_CVE[i], _ = CVE.DSigma_CVE(coordinates_dict[key], dT, R=1./6, n_d=n_d)"
   ]
  },
  {
   "cell_type": "markdown",
   "id": "0e10ab24-f180-4f27-95f9-d0002fc296d0",
   "metadata": {},
   "source": [
    "We can now plot these diffusion coefficients for all our molecules."
   ]
  },
  {
   "cell_type": "code",
   "execution_count": null,
   "id": "cb1283d3-8785-40ca-bf70-6b97579f3b9f",
   "metadata": {},
   "outputs": [],
   "source": [
    "fig, ax = plots.one_column_plot()\n",
    "\n",
    "ax = plots.histogram_plot(axs=ax, data=D_estimates_CVE, histcolor='green', alpha=0.5, bins=SF_F.bincalculator(D_estimates_CVE), xaxislabel='Diffusion coefficient estimate');\n",
    "ax = plots.histogram_plot(axs=ax, data=D_estimates_MLE, histcolor='red', alpha=0.5, bins=SF_F.bincalculator(D_estimates_MLE), xaxislabel='Diffusion coefficient estimate');\n",
    "ax = plots.histogram_plot(axs=ax, data=D_estimates_MSD, histcolor='blue', alpha=0.5, bins=SF_F.bincalculator(D_estimates_MSD), xaxislabel='Diffusion coefficient estimate');\n",
    "\n",
    "plt.show()"
   ]
  }
 ],
 "metadata": {
  "kernelspec": {
   "display_name": "Python 3 (ipykernel)",
   "language": "python",
   "name": "python3"
  },
  "language_info": {
   "codemirror_mode": {
    "name": "ipython",
    "version": 3
   },
   "file_extension": ".py",
   "mimetype": "text/x-python",
   "name": "python",
   "nbconvert_exporter": "python",
   "pygments_lexer": "ipython3",
   "version": "3.10.12"
  }
 },
 "nbformat": 4,
 "nbformat_minor": 5
}
