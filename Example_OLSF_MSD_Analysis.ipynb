{
 "cells": [
  {
   "cell_type": "code",
   "execution_count": 1,
   "id": "bd08423e",
   "metadata": {},
   "outputs": [],
   "source": [
    "from src import CVE_Functions\n",
    "from src import LangevinFunctions\n",
    "from src import StatsFunctions\n",
    "from src import MSDFunctions\n",
    "SF_F = StatsFunctions.Statistics_Functions()\n",
    "CVE_F = CVE_Functions.CVE()\n",
    "LF_F = LangevinFunctions.LF()\n",
    "MSD_F = MSDFunctions.MSD()\n",
    "import numpy as np\n",
    "import matplotlib.pyplot as plt"
   ]
  },
  {
   "cell_type": "code",
   "execution_count": 195,
   "id": "d1be25dc-2638-445e-ab62-860ea27e643c",
   "metadata": {},
   "outputs": [],
   "source": [
    "delta = np.matrix(np.linspace(-10, 10, 99));\n",
    "N = 1000;\n",
    "DT = 10\n",
    "dT = 0.1\n",
    "deltaT = dT\n",
    "sigma0 = 0.01 # 10 nm localisation precision\n",
    "s0 = 0.25\n",
    "tE = dT\n",
    "R = 1./6"
   ]
  },
  {
   "cell_type": "code",
   "execution_count": 196,
   "id": "b3dffcad-6b91-4bf6-a4f5-9f5f825fa7e6",
   "metadata": {},
   "outputs": [],
   "source": [
    "n_d = 3\n",
    "coordinates = LF_F.BrownianTrans_Realistic(DT, N=NSteps, deltaT=dT, n_d=n_d, tE=dT, sigma0=sigma0, s0=s0, R=1./6)\n",
    "coords = LF_F.BrownianTrans_Ideal(DT, n_d, dT, NSteps)"
   ]
  },
  {
   "cell_type": "code",
   "execution_count": 197,
   "id": "08304840-aed0-4e53-a311-7df9319c3852",
   "metadata": {},
   "outputs": [
    {
     "data": {
      "image/png": "[encoded data removed]",
      "text/plain": [
       "<Figure size 640x480 with 1 Axes>"
      ]
     },
     "metadata": {},
     "output_type": "display_data"
    }
   ],
   "source": [
    "plt.hist(np.diff(coordinates[:, 0]), 100);\n",
    "plt.hist(np.diff(coords[:, 0]), 100, alpha=0.5);\n",
    "plt.show()"
   ]
  },
  {
   "cell_type": "code",
   "execution_count": 198,
   "id": "5cb3a306-febf-4924-8511-1d3d05877471",
   "metadata": {},
   "outputs": [],
   "source": [
    "import scipy.optimize\n",
    "from scipy.fft import dst\n"
   ]
  },
  {
   "cell_type": "code",
   "execution_count": 199,
   "id": "16d302a2-5c1b-49f5-8df8-1f073767cf94",
   "metadata": {},
   "outputs": [],
   "source": [
    "    def likelihood_subfunction(d_xx, D, sig2, dT, R, n_d=1):\n",
    "        \"\"\"\n",
    "        Compute log-likelihood for trajectories of particle tracking.\n",
    "    \n",
    "        Args:\n",
    "            d_xx (numpy.ndarray): Square distance of the difference of \n",
    "                                trajectory. Second axis should be n_d\n",
    "            D (float): Diffusion coefficient.\n",
    "            sig2 (float): Variance.\n",
    "            dT (float): Time step.\n",
    "            R (float): Motion blur coefficient.\n",
    "            n_d (int): number of dimensions. If above 1, d_xx second\n",
    "                        dimension should be same shape as this number\n",
    "    \n",
    "        Returns:\n",
    "            L (float): Likelihood value.\n",
    "        \"\"\"\n",
    "        if D < 0 or sig2 < 0:\n",
    "            # Return negative infinity if D or sig2 is negative\n",
    "            return -np.inf\n",
    "    \n",
    "        if n_d > 1:\n",
    "            try:\n",
    "                if d_xx.shape[1] != n_d:\n",
    "                    raise Exception('Dimension of d_xx and n_d are inconsistent.')\n",
    "            except Exception as error:\n",
    "                print('Caught this error: ' + repr(error))\n",
    "                return\n",
    "            \n",
    "        L = 0. # initialise L\n",
    "        N = d_xx.shape[0]\n",
    "        # Calculate parameters for the likelihood computation\n",
    "        alpha = 2 * D * dT * (1 - 2 * R) + 2 * sig2\n",
    "        beta = 2 * R * D * dT - sig2\n",
    "        # Compute the eigenvalues vector\n",
    "        eigvec = alpha + 2 * beta * np.cos(np.pi * np.arange(1, N + 1) / (N + 1))\n",
    "        eigvec = eigvec.reshape(d_xx.shape[0])\n",
    "        if n_d == 1:\n",
    "            # Compute the likelihood\n",
    "            L += -0.5 * np.sum(np.log(eigvec) + (2 / (N + 1)) * d_xx / eigvec)\n",
    "        else:\n",
    "            for n in np.arange(n_d):\n",
    "                # Compute the likelihood\n",
    "                L += -0.5 * np.sum(np.log(eigvec) + (2 / (N + 1)) * d_xx[:,n] / eigvec)\n",
    "        return L"
   ]
  },
  {
   "cell_type": "code",
   "execution_count": 200,
   "id": "c837bdcd-bd94-497f-b276-21afe820912d",
   "metadata": {},
   "outputs": [],
   "source": [
    "maxiter=100000\n",
    "maxfun=100000\n",
    "n_d = 3\n",
    "R = 1./6"
   ]
  },
  {
   "cell_type": "code",
   "execution_count": 201,
   "id": "3c7991c5-132c-4b4d-95ff-c9d27911d9bb",
   "metadata": {},
   "outputs": [
    {
     "name": "stdout",
     "output_type": "stream",
     "text": [
      "Optimization terminated successfully.\n",
      "         Current function value: 527.921119\n",
      "         Iterations: 98\n",
      "         Function evaluations: 177\n"
     ]
    }
   ],
   "source": [
    "        diff_coordinates = np.diff(coordinates, axis=0)\n",
    "        var_diff_coordinates = np.var(diff_coordinates, axis=0)\n",
    "        D_i = np.mean(var_diff_coordinates) / (2 * dT * 2)        \n",
    "        sigma2_i = np.mean(var_diff_coordinates) / 2\n",
    "\n",
    "        # make displacements array\n",
    "        dX = np.subtract(np.diff(coordinates, axis=0),\n",
    "                         np.tile(np.mean(np.diff(coordinates, axis=0), axis=0),\n",
    "                                 (len(coordinates) - 1, 1)))\n",
    "        \n",
    "        sine_transform = np.square((dst(dX, 2, axis=0))/2)\n",
    "        optimfunc = lambda x: -likelihood_subfunction(sine_transform, x[0], x[1], dT, R, n_d)\n",
    "        xopt = scipy.optimize.fmin(func=optimfunc, x0=[D_i, sigma2_i], maxiter=maxiter, maxfun=maxfun)\n"
   ]
  },
  {
   "cell_type": "code",
   "execution_count": 203,
   "id": "1a7785dc-71b1-494b-b6c8-ffa83309c995",
   "metadata": {},
   "outputs": [
    {
     "data": {
      "text/plain": [
       "array([4.20580702e+00, 3.25248791e-11])"
      ]
     },
     "execution_count": 203,
     "metadata": {},
     "output_type": "execute_result"
    }
   ],
   "source": [
    "xopt"
   ]
  },
  {
   "cell_type": "code",
   "execution_count": null,
   "id": "02fc6514-e094-4f0d-950a-2640fd89d347",
   "metadata": {},
   "outputs": [],
   "source": []
  }
 ],
 "metadata": {
  "kernelspec": {
   "display_name": "Python 3 (ipykernel)",
   "language": "python",
   "name": "python3"
  },
  "language_info": {
   "codemirror_mode": {
    "name": "ipython",
    "version": 3
   },
   "file_extension": ".py",
   "mimetype": "text/x-python",
   "name": "python",
   "nbconvert_exporter": "python",
   "pygments_lexer": "ipython3",
   "version": "3.10.12"
  }
 },
 "nbformat": 4,
 "nbformat_minor": 5
}
