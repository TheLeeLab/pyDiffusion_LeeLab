{
 "cells": [
  {
   "cell_type": "code",
   "execution_count": 1,
   "id": "bd08423e",
   "metadata": {},
   "outputs": [],
   "source": [
    "from src import LangevinFunctions\n",
    "from src import StatsFunctions\n",
    "from src import CVE_Functions\n",
    "from src import PlottingFunctions\n",
    "SF_F = StatsFunctions.Statistics_Functions()\n",
    "LF_F = LangevinFunctions.LF()\n",
    "CVE = CVE_Functions.CVE()\n",
    "plots = PlottingFunctions.Plotter()\n",
    "import numpy as np\n",
    "import matplotlib.pyplot as plt"
   ]
  },
  {
   "cell_type": "markdown",
   "id": "6f4374cd-a422-4e20-8f9c-4de2798bd629",
   "metadata": {},
   "source": [
    "First, we will generate some single particle tracking data. We can use the LangevinFunctions module to do this."
   ]
  },
  {
   "cell_type": "code",
   "execution_count": 2,
   "id": "b3dffcad-6b91-4bf6-a4f5-9f5f825fa7e6",
   "metadata": {},
   "outputs": [],
   "source": [
    "\"\"\"     BrownianTrans_Realistic generates displacements (Delta)\n",
    "        from equations 2--5 of Michalet, X.; Berglund, A. J.\n",
    "        Phys. Rev. E 2012, 85 (6), 061916.\n",
    "        https://doi.org/10.1103/PhysRevE.85.061916.\n",
    "        This function assumes a realistic brownian motion tracked\n",
    "        using a camera.\n",
    "\n",
    "        Args:\n",
    "            DT (float): translational diffusion coefficient\n",
    "            N (int): number of steps to simulate\n",
    "            n_d (int): mumber of dimensions of diffusion\n",
    "            deltaT (flaot): time step between data points\n",
    "            tE (float): camera exposure duration (can be same as deltaT)\n",
    "            sigma0 (float): static localisation error\n",
    "            s0 (float): standard deviation of the PSF\n",
    "            R (float): motion blur coefficient (see Equation 5 of paper)\n",
    "\n",
    "        Returns:\n",
    "            coordinates (np.ndarray): coordinates over time\n",
    "\"\"\"\n",
    "\n",
    "N = 100; # number of data points in our track\n",
    "DT = 1 # diffusion coefficient\n",
    "dT = 100e-3 # timestep\n",
    "sigma0 = 0.05 # 50 nm localisation precision\n",
    "s0 = 0.25 # 250 nm psf\n",
    "n_d = 3 # 3-dimensional diffusion\n",
    "\n",
    "coordinates = LF_F.BrownianTrans_Realistic(DT=DT, N=N, deltaT=dT, n_d=n_d, tE=dT, sigma0=sigma0, s0=s0, R=1./6)"
   ]
  },
  {
   "cell_type": "markdown",
   "id": "c1896d48-4e54-4c3a-b288-d905364ea2bd",
   "metadata": {},
   "source": [
    "Then, we analyse it using our CVE estimator function."
   ]
  },
  {
   "cell_type": "code",
   "execution_count": 3,
   "id": "5fd7f264-3a46-4a0e-afec-1d2f009c95b8",
   "metadata": {},
   "outputs": [
    {
     "ename": "UnsupportedError",
     "evalue": "Failed in nopython mode pipeline (step: analyzing bytecode)\nException object cannot be stored into variable (error).\n\nFile \"src/CVE_Functions.py\", line 144:\n    def Eq14(x, dT, R=1./6, min_points=10):\n        <source elided>\n                                in Single-Particle Tracking. Phys. Rev. E 2012, 85 (6), 061916. https://doi.org/10.1103/PhysRevE.85.061916.\"\"\")\n        except Exception as error:\n        ^\n",
     "output_type": "error",
     "traceback": [
      "\u001b[0;31m---------------------------------------------------------------------------\u001b[0m",
      "\u001b[0;31mUnsupportedError\u001b[0m                          Traceback (most recent call last)",
      "Cell \u001b[0;32mIn[3], line 19\u001b[0m\n\u001b[1;32m      1\u001b[0m \u001b[38;5;124;03m\"\"\"\u001b[39;00m\n\u001b[1;32m      2\u001b[0m \u001b[38;5;124;03m        Compute diffusion coefficient estimate, and estimate of the\u001b[39;00m\n\u001b[1;32m      3\u001b[0m \u001b[38;5;124;03m        dynamic localisation error, using the MLE approach.\u001b[39;00m\n\u001b[0;32m   (...)\u001b[0m\n\u001b[1;32m     16\u001b[0m \u001b[38;5;124;03m            sigma (float): estimate of dynamic localisation std.\u001b[39;00m\n\u001b[1;32m     17\u001b[0m \u001b[38;5;124;03m\"\"\"\u001b[39;00m\n\u001b[0;32m---> 19\u001b[0m D, sigma \u001b[38;5;241m=\u001b[39m \u001b[43mCVE\u001b[49m\u001b[38;5;241;43m.\u001b[39;49m\u001b[43mDSigma_CVE\u001b[49m\u001b[43m(\u001b[49m\u001b[43mcoordinates\u001b[49m\u001b[43m,\u001b[49m\u001b[43m \u001b[49m\u001b[43mdT\u001b[49m\u001b[43m,\u001b[49m\u001b[43m \u001b[49m\u001b[43mR\u001b[49m\u001b[38;5;241;43m=\u001b[39;49m\u001b[38;5;241;43m1.\u001b[39;49m\u001b[38;5;241;43m/\u001b[39;49m\u001b[38;5;241;43m6\u001b[39;49m\u001b[43m,\u001b[49m\u001b[43m \u001b[49m\u001b[43mn_d\u001b[49m\u001b[38;5;241;43m=\u001b[39;49m\u001b[43mn_d\u001b[49m\u001b[43m)\u001b[49m\n\u001b[1;32m     20\u001b[0m \u001b[38;5;28mprint\u001b[39m(\u001b[38;5;124m\"\u001b[39m\u001b[38;5;124mDiffusion coefficient estimate is \u001b[39m\u001b[38;5;124m\"\u001b[39m, D)\n\u001b[1;32m     21\u001b[0m \u001b[38;5;28mprint\u001b[39m(\u001b[38;5;124m\"\u001b[39m\u001b[38;5;124mEstimate of dynamic localisation std is \u001b[39m\u001b[38;5;124m\"\u001b[39m, sigma)\n",
      "File \u001b[0;32m~/Documents/Dropbox (Cambridge University)/Chemistry/Lee/Code/Python/pyDiffusion_LeeLab/src/CVE_Functions.py:112\u001b[0m, in \u001b[0;36mCVE.DSigma_CVE\u001b[0;34m(self, coordinates, dT, R, n_d, min_points)\u001b[0m\n\u001b[1;32m    109\u001b[0m var_d \u001b[38;5;241m=\u001b[39m np\u001b[38;5;241m.\u001b[39mzeros(n_d)\n\u001b[1;32m    111\u001b[0m \u001b[38;5;28;01mfor\u001b[39;00m i \u001b[38;5;129;01min\u001b[39;00m np\u001b[38;5;241m.\u001b[39marange(n_d):\n\u001b[0;32m--> 112\u001b[0m     D_d[i], sigma, var_d[i] \u001b[38;5;241m=\u001b[39m \u001b[38;5;28;43mself\u001b[39;49m\u001b[38;5;241;43m.\u001b[39;49m\u001b[43mEq14\u001b[49m\u001b[43m(\u001b[49m\u001b[43mcoordinates\u001b[49m\u001b[43m[\u001b[49m\u001b[43m:\u001b[49m\u001b[43m,\u001b[49m\u001b[43m \u001b[49m\u001b[43mi\u001b[49m\u001b[43m]\u001b[49m\u001b[43m,\u001b[49m\u001b[43m \u001b[49m\u001b[43mdT\u001b[49m\u001b[43m,\u001b[49m\u001b[43m \u001b[49m\u001b[43mR\u001b[49m\u001b[43m)\u001b[49m\n\u001b[1;32m    114\u001b[0m D \u001b[38;5;241m=\u001b[39m np\u001b[38;5;241m.\u001b[39mmean(D_d)\n\u001b[1;32m    115\u001b[0m var \u001b[38;5;241m=\u001b[39m np\u001b[38;5;241m.\u001b[39mmean(var_d)\n",
      "File \u001b[0;32m~/.virtualenvs/pyDiffusion/lib/python3.10/site-packages/numba/core/dispatcher.py:471\u001b[0m, in \u001b[0;36m_DispatcherBase._compile_for_args\u001b[0;34m(self, *args, **kws)\u001b[0m\n\u001b[1;32m    468\u001b[0m     error_rewrite(e, \u001b[38;5;124m'\u001b[39m\u001b[38;5;124mtyping\u001b[39m\u001b[38;5;124m'\u001b[39m)\n\u001b[1;32m    469\u001b[0m \u001b[38;5;28;01mexcept\u001b[39;00m errors\u001b[38;5;241m.\u001b[39mUnsupportedError \u001b[38;5;28;01mas\u001b[39;00m e:\n\u001b[1;32m    470\u001b[0m     \u001b[38;5;66;03m# Something unsupported is present in the user code, add help info\u001b[39;00m\n\u001b[0;32m--> 471\u001b[0m     \u001b[43merror_rewrite\u001b[49m\u001b[43m(\u001b[49m\u001b[43me\u001b[49m\u001b[43m,\u001b[49m\u001b[43m \u001b[49m\u001b[38;5;124;43m'\u001b[39;49m\u001b[38;5;124;43munsupported_error\u001b[39;49m\u001b[38;5;124;43m'\u001b[39;49m\u001b[43m)\u001b[49m\n\u001b[1;32m    472\u001b[0m \u001b[38;5;28;01mexcept\u001b[39;00m (errors\u001b[38;5;241m.\u001b[39mNotDefinedError, errors\u001b[38;5;241m.\u001b[39mRedefinedError,\n\u001b[1;32m    473\u001b[0m         errors\u001b[38;5;241m.\u001b[39mVerificationError) \u001b[38;5;28;01mas\u001b[39;00m e:\n\u001b[1;32m    474\u001b[0m     \u001b[38;5;66;03m# These errors are probably from an issue with either the code\u001b[39;00m\n\u001b[1;32m    475\u001b[0m     \u001b[38;5;66;03m# supplied being syntactically or otherwise invalid\u001b[39;00m\n\u001b[1;32m    476\u001b[0m     error_rewrite(e, \u001b[38;5;124m'\u001b[39m\u001b[38;5;124minterpreter\u001b[39m\u001b[38;5;124m'\u001b[39m)\n",
      "File \u001b[0;32m~/.virtualenvs/pyDiffusion/lib/python3.10/site-packages/numba/core/dispatcher.py:409\u001b[0m, in \u001b[0;36m_DispatcherBase._compile_for_args.<locals>.error_rewrite\u001b[0;34m(e, issue_type)\u001b[0m\n\u001b[1;32m    407\u001b[0m     \u001b[38;5;28;01mraise\u001b[39;00m e\n\u001b[1;32m    408\u001b[0m \u001b[38;5;28;01melse\u001b[39;00m:\n\u001b[0;32m--> 409\u001b[0m     \u001b[38;5;28;01mraise\u001b[39;00m e\u001b[38;5;241m.\u001b[39mwith_traceback(\u001b[38;5;28;01mNone\u001b[39;00m)\n",
      "\u001b[0;31mUnsupportedError\u001b[0m: Failed in nopython mode pipeline (step: analyzing bytecode)\nException object cannot be stored into variable (error).\n\nFile \"src/CVE_Functions.py\", line 144:\n    def Eq14(x, dT, R=1./6, min_points=10):\n        <source elided>\n                                in Single-Particle Tracking. Phys. Rev. E 2012, 85 (6), 061916. https://doi.org/10.1103/PhysRevE.85.061916.\"\"\")\n        except Exception as error:\n        ^\n"
     ]
    }
   ],
   "source": [
    "\"\"\"\n",
    "        Compute diffusion coefficient estimate, and estimate of the\n",
    "        dynamic localisation error, using the MLE approach.\n",
    "    \n",
    "        Args:\n",
    "            coordinates (np.ndarray): coordinates over time.\n",
    "            dT (float): Time step.\n",
    "            R (float): Motion blur coefficient.\n",
    "            n_d (int): number of dimensions. If above 1, coordinates second\n",
    "                        dimension should be same shape as this number\n",
    "            maxiter (int): maximum number of optimisation iterations to make\n",
    "            maxfun (int): maximum number of function evaluations to make\n",
    "    \n",
    "        Returns:\n",
    "            D (float): estimate of D value.\n",
    "            sigma (float): estimate of dynamic localisation std.\n",
    "\"\"\"\n",
    "\n",
    "D, sigma = CVE.DSigma_CVE(coordinates, dT, R=1./6, n_d=n_d)\n",
    "print(\"Diffusion coefficient estimate is \", D)\n",
    "print(\"Estimate of dynamic localisation std is \", sigma)"
   ]
  },
  {
   "cell_type": "markdown",
   "id": "0e10ab24-f180-4f27-95f9-d0002fc296d0",
   "metadata": {},
   "source": [
    "This may be not exactly correct! We can quickly simulate 1,000 different actualisations of our coordinate to confirm that on average our CVE does well."
   ]
  },
  {
   "cell_type": "code",
   "execution_count": null,
   "id": "313bf883-332c-4e6f-b3f5-3f7d769143e7",
   "metadata": {},
   "outputs": [],
   "source": [
    "D_estimates = np.zeros(1000)\n",
    "sigma_estimates = np.zeros(1000)\n",
    "\n",
    "for i in np.arange(1000):\n",
    "    coordinates = LF_F.BrownianTrans_Realistic(DT=DT, N=N, deltaT=dT, n_d=n_d, tE=dT, sigma0=sigma0, s0=s0, R=1./6)\n",
    "    D_estimates[i], sigma_estimates[i] = CVE.DSigma_CVE(coordinates, dT, R=1./6, n_d=n_d)"
   ]
  },
  {
   "cell_type": "markdown",
   "id": "6e25d74e-e2e2-4742-8030-c16fe912804d",
   "metadata": {},
   "source": [
    "Then let's plot these in a histogram to lay our fears to rest that our estimator is \"off\"."
   ]
  },
  {
   "cell_type": "code",
   "execution_count": null,
   "id": "cb1283d3-8785-40ca-bf70-6b97579f3b9f",
   "metadata": {},
   "outputs": [],
   "source": [
    "fig, ax = plots.one_column_plot()\n",
    "\n",
    "ax = plots.histogram_plot(axs=ax, data=D_estimates, bins=SF_F.bincalculator(D_estimates), xaxislabel='Diffusion coefficient estimate');\n",
    "\n",
    "plt.show()"
   ]
  },
  {
   "cell_type": "markdown",
   "id": "680e9b5c-a7e1-4ef9-b076-88b84f069d1d",
   "metadata": {},
   "source": [
    "We can also compute (crudely) errors on our D and $\\sigma$ parameters using bootstrapping. This is done by using the DSigma_CVE_BootStrap function."
   ]
  },
  {
   "cell_type": "code",
   "execution_count": null,
   "id": "03ba24b1-8f01-4810-816a-acc17b6bb44d",
   "metadata": {},
   "outputs": [],
   "source": [
    "\"\"\"\n",
    "        Compute diffusion coefficient estimate, and estimate of the\n",
    "        dynamic localisation error, using the CVE approach.\n",
    "    \n",
    "        Args:\n",
    "            coordinates (np.ndarray): coordinates over time.\n",
    "            dT (float): Time step.\n",
    "            R (float): Motion blur coefficient.\n",
    "            n_d (int): number of dimensions. If above 1, coordinates second\n",
    "                        dimension should be same shape as this number\n",
    "            maxiter (int): maximum number of optimisation iterations to make\n",
    "            maxfun (int): maximum number of function evaluations to make\n",
    "            n_samples (int): number of boostrapped samples. default 100.\n",
    "    \n",
    "        Returns:\n",
    "            D_err (float): estimate of D value error\n",
    "            sigma_err (float): estimate of dynamic localisation std error\n",
    "\"\"\"\n",
    "\n",
    "D_error, sigma_error = CVE.DSigma_CVE_BootStrap(coordinates, dT, R=1./6, n_d=n_d)\n",
    "print(\"Diffusion coefficient estimate error is \", D_error)\n",
    "print(\"Estimate of dynamic localisation std is \", sigma_error)"
   ]
  },
  {
   "cell_type": "markdown",
   "id": "05a8b384-4a9b-4acc-9b3f-760ba2557d7f",
   "metadata": {},
   "source": [
    "We can also read in data using pandas and analyse that, deducing the time step from our file, and then analyse the data."
   ]
  },
  {
   "cell_type": "code",
   "execution_count": null,
   "id": "1c863525-61d2-4468-9c82-022306fad75f",
   "metadata": {},
   "outputs": [],
   "source": [
    "import pandas as pd\n",
    "\n",
    "data = pd.read_csv(r'Example_Tracking_Data/Example_Tracking_Data.csv', index_col=0)\n",
    "deltaT = np.mean(np.diff(data.index))\n",
    "\n",
    "D, sigma = CVE.DSigma_CVE(data.values, dT, R=1./6, n_d=data.shape[1])\n",
    "print(\"Diffusion coefficient estimate is \", D)\n",
    "print(\"Estimate of dynamic localisation std is \", sigma)\n",
    "\n",
    "D_error, sigma_error = CVE.DSigma_CVE_BootStrap(data.values, dT, R=1./6, n_d=data.shape[1])\n",
    "print(\"Diffusion coefficient estimate error is \", D_error)\n",
    "print(\"Estimate of dynamic localisation std is \", sigma_error)"
   ]
  },
  {
   "cell_type": "code",
   "execution_count": null,
   "id": "8fe9d027-8f91-4f5f-a013-8d92edf339c8",
   "metadata": {},
   "outputs": [],
   "source": []
  }
 ],
 "metadata": {
  "kernelspec": {
   "display_name": "Python 3 (ipykernel)",
   "language": "python",
   "name": "python3"
  },
  "language_info": {
   "codemirror_mode": {
    "name": "ipython",
    "version": 3
   },
   "file_extension": ".py",
   "mimetype": "text/x-python",
   "name": "python",
   "nbconvert_exporter": "python",
   "pygments_lexer": "ipython3",
   "version": "3.10.12"
  }
 },
 "nbformat": 4,
 "nbformat_minor": 5
}
